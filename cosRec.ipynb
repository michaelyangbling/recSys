{
 "cells": [
  {
   "cell_type": "code",
   "execution_count": 1,
   "metadata": {},
   "outputs": [],
   "source": [
    "import pandas as pd\n",
    "import numpy as np\n",
    "from numpy import vectorize\n",
    "import math\n",
    "vfunc = vectorize( lambda x: 0 if x==0 else 1/( math.sqrt(x) ) )\n",
    "R = pd.read_csv(\"user-shows.txt\", sep = \" \", header = None).values # userItem matrix R\n",
    "\n",
    "P = np.diag( np.sum(R, axis=1) )   #row sum as diag\n",
    "\n",
    "P2 = vfunc(P)\n",
    "\n",
    "Rt = R.transpose()\n",
    "res = P2 @ R @ Rt @ P2 @ R\n"
   ]
  },
  {
   "cell_type": "code",
   "execution_count": 2,
   "metadata": {},
   "outputs": [
    {
     "data": {
      "text/plain": [
       "'/Users/yzh/Desktop/DataM/recsys_data_for_hw'"
      ]
     },
     "execution_count": 2,
     "metadata": {},
     "output_type": "execute_result"
    }
   ],
   "source": [
    "import os\n",
    "os.getcwd()"
   ]
  },
  {
   "cell_type": "code",
   "execution_count": 24,
   "metadata": {},
   "outputs": [],
   "source": [
    "alexRate=list(res[499, :])[0:100] #predicted rating of alex, first 100 columns(items\n",
    "\n",
    "i=0\n",
    "while i<len(alexRate):\n",
    "    alexRate[i] = [ alexRate[i], i ] #( rate, index ) tuple\n",
    "    i+=1\n",
    "\n",
    "alexRate.sort(key = lambda lst: (-lst[0], lst[1] ) )"
   ]
  },
  {
   "cell_type": "code",
   "execution_count": 21,
   "metadata": {},
   "outputs": [],
   "source": [
    "with open('shows.txt', 'r') as myfile:\n",
    "  data = myfile.read()"
   ]
  },
  {
   "cell_type": "code",
   "execution_count": 22,
   "metadata": {},
   "outputs": [],
   "source": [
    "titleList = data.split('\\n')[0:-1]"
   ]
  },
  {
   "cell_type": "markdown",
   "metadata": {},
   "source": [
    "⋆ SOLUTION: user user shows:\n",
    "• FOX 28 News at 10pm\n",
    "• Family Guy\n",
    "• 2009 NCAA Basketball Tournament • \n",
    "NBC 4 at Eleven\n",
    "• Two and a Half Men"
   ]
  },
  {
   "cell_type": "code",
   "execution_count": 25,
   "metadata": {
    "collapsed": true
   },
   "outputs": [
    {
     "name": "stdout",
     "output_type": "stream",
     "text": [
      "[[908.4800534761278, 96, '\"FOX 28 News at 10pm\"'], [861.17599928733, 74, '\"Family Guy\"'], [827.6012954743579, 45, '\"2009 NCAA Basketball Tournament\"'], [784.7819589039741, 60, '\"NBC 4 at Eleven\"'], [757.6011181024229, 9, '\"Two and a Half Men\"'], [733.1265193379159, 68, '\"Today\"'], [732.4329138179965, 82, '\"Access Hollywood\"'], [729.5918580858217, 5, '\"Everybody Loves Raymond\"'], [707.5191932859459, 72, '\"Law & Order: Special Victims Unit\"'], [698.6582714564508, 62, '\"NBC 4 Today\"'], [688.5072858997382, 64, '\"Law & Order\"'], [661.0607526660424, 59, '\"American Idol\"'], [639.1375499758983, 20, '\"CBS Evening News\"'], [630.637442055995, 90, '\"CSI: NY\"'], [628.7257043499965, 97, '\"That \\'70s Show\"'], [627.162866628251, 35, '\"SpongeBob SquarePants\"'], [622.7612264055452, 46, '\"SportsCenter\"'], [616.624447822331, 76, '\"NCIS\"'], [612.3769412758792, 65, '\"The Tonight Show with Jay Leno\"'], [594.4518470528965, 25, '\"Dateline NBC\"'], [591.3456123302817, 11, '\"College Basketball\"'], [569.4145091506668, 1, '\"NBC Nightly News\"'], [568.8071153636494, 2, '\"Dancing with the Stars\"'], [560.310256701154, 43, '\"Law & Order: Criminal Intent\"'], [560.0322496263055, 99, '\"Sex and the City\"'], [557.547169237159, 13, '\"PGA Tournament\"'], [547.3967169854252, 15, '\"60 Minutes\"'], [492.14613084937423, 88, '\"5:30 on 4\"'], [491.35302349981146, 67, '\"Today Weekend\"'], [489.35065638222693, 10, '\"Friends\"'], [467.73042953940296, 73, '\"The Simpsons\"'], [466.4042701410465, 19, '\"The Amazing Race 14\"'], [455.34474982127955, 17, '\"The Young and the Restless\"'], [455.0716489095485, 36, '\"iCarly\"'], [453.14264779572187, 81, '\"Late Night with Jimmy Fallon\"'], [453.02955130271283, 14, '\"The King of Queens\"'], [449.38101438536455, 44, '\"The Penguins of Madagascar\"'], [448.5515231406324, 98, '\"Frasier\"'], [435.8239878413683, 40, '\"The Fairly OddParents\"'], [433.94858691700534, 55, '\"Entertainment Tonight\"'], [431.5576584877827, 8, '\"NBA Basketball\"'], [429.93556951443037, 87, '\"Inside Edition\"'], [422.4737214827587, 56, '\"Who Wants to Be a Millionaire?\"'], [416.02807389989715, 34, '\"Scrubs\"'], [405.98535711381925, 86, '\"The Ellen DeGeneres Show\"'], [404.76554336077186, 54, '\"MLB Baseball\"'], [403.2975656097661, 71, '\"The Celebrity Apprentice\"'], [390.0182910282437, 58, '\"ESPNews\"'], [381.9004605176576, 63, '\"Wow Wow Wubbzy\"'], [368.9741509017806, 91, '\"The Biggest Loser 7: Couples\"'], [357.47939487445836, 41, '\"Drake & Josh\"'], [356.64206949649184, 38, '\"Back at the Barnyard\"'], [355.9002453425601, 48, '\"Max and Ruby\"'], [344.58153931714673, 16, '\"CNN Newsroom\"'], [326.4484070309239, 31, '\"The E! True Hollywood Story\"'], [321.6388011001377, 29, '\"2009 NHL Playoffs\"'], [311.328178861428, 57, '\"2009 NFL Draft\"'], [300.40175337028245, 22, '\"Wife Swap\"'], [297.6257754433291, 21, '\"Presidential Press Conference\"'], [288.5075029060194, 85, '\"The Doctors\"'], [281.952642108571, 93, '\"Meet the Press\"'], [270.8060611803902, 89, '\"South Park\"'], [266.1573284447631, 69, '\"Blue\\'s Clues\"'], [263.9434146780884, 28, '\"How I Met Your Mother\"'], [255.93240327797497, 27, '\"The Big Bang Theory\"'], [253.150280086061, 4, '\"Larry King Live\"'], [250.8178293807668, 66, '\"Lazy Town\"'], [236.50513634867875, 70, '\"Franklin\"'], [236.11493403055402, 83, '\"Happy Gilmore\"'], [233.00434676338494, 32, '\"Horse Racing\"'], [222.97224341655237, 77, '\"Disney\\'s Mickey Mouse Clubhouse\"'], [218.79645718043687, 6, '\"NHL Hockey\"'], [214.7009707600032, 53, '\"My Life As a Teenage Robot\"'], [210.27206227398293, 23, '\"2009 NCAA Women\\'s Basketball Tournament\"'], [207.46147075462937, 12, '\"The Daily Show with Jon Stewart\"'], [196.26988515943336, 84, '\"According to Jim\"'], [188.59095883811247, 0, '\"The Situation Room with Wolf Blitzer\"'], [186.24072722199284, 3, '\"The Colbert Report\"'], [172.30662382357693, 26, '\"CBS Sunday Evening News\"'], [170.90419013446947, 52, '\"Avatar: The Last Airbender\"'], [163.7315205083014, 78, '\"Shaun the Sheep\"'], [158.7553685839217, 51, '\"Danny Phantom\"'], [145.9143823781916, 94, '\"Early Today\"'], [143.95838717794518, 42, '\"Dog the Bounty Hunter\"'], [143.06936635998724, 50, '\"NBA Fastbreak\"'], [139.15286994560103, 39, '\"Sweat Equity\"'], [137.65102897122608, 95, '\"Gangland\"'], [132.95540117407973, 37, '\"Curious George\"'], [131.26156650941954, 79, '\"Special Agent OSO\"'], [130.5093307081703, 24, '\"ABC World News Saturday\"'], [128.861104660718, 92, '\"Naked Science\"'], [128.47843307034418, 49, '\"UFC Unleashed\"'], [127.6161896390079, 33, '\"American Morning\"'], [126.07435653608859, 75, '\"Nash Bridges\"'], [114.68402905365699, 7, '\"Campbell Brown: No Bias, No Bull\"'], [108.37179797602128, 30, '\"World Poker Tour\"'], [104.2195371974094, 18, '\"Your World with Neil Cavuto\"'], [97.64569408295185, 61, '\"Huckabee\"'], [88.5637665683799, 80, '\"Transformers\"'], [54.33004650213772, 47, '\"MLB Spring Training\"']]\n"
     ]
    }
   ],
   "source": [
    "for tup in alexRate:\n",
    "    tup.append( titleList [ tup[1] ] )\n",
    "print(alexRate)"
   ]
  },
  {
   "cell_type": "code",
   "execution_count": 27,
   "metadata": {},
   "outputs": [],
   "source": [
    "\n",
    "Q = np.diag( np.sum(R, axis=0) )   #column sum as diag\n",
    "\n",
    "Q2 = vfunc(Q)\n",
    "\n",
    "res2 = R @ Q2 @ Rt @ R @ Q2"
   ]
  },
  {
   "cell_type": "markdown",
   "metadata": {},
   "source": [
    "item item shows:\n",
    "• FOX 28 News at 10pm\n",
    "• Family Guy\n",
    "• NBC 4 at Eleven\n",
    "• 2009 NCAA Basketball Tournament • \n",
    "Access Hollywood"
   ]
  },
  {
   "cell_type": "code",
   "execution_count": 28,
   "metadata": {
    "scrolled": true
   },
   "outputs": [
    {
     "name": "stdout",
     "output_type": "stream",
     "text": [
      "[[31.36470167834239, 96, '\"FOX 28 News at 10pm\"'], [30.001141798877768, 74, '\"Family Guy\"'], [29.396797773402554, 60, '\"NBC 4 at Eleven\"'], [29.227001561500483, 45, '\"2009 NCAA Basketball Tournament\"'], [28.971277674055553, 82, '\"Access Hollywood\"'], [28.84972763541344, 9, '\"Two and a Half Men\"'], [28.684995091004183, 68, '\"Today\"'], [28.672667603113357, 5, '\"Everybody Loves Raymond\"'], [28.0137801288709, 72, '\"Law & Order: Special Victims Unit\"'], [27.993831895096285, 20, '\"CBS Evening News\"'], [27.71873252150528, 62, '\"NBC 4 Today\"'], [27.655994876418802, 59, '\"American Idol\"'], [27.320752565117047, 64, '\"Law & Order\"'], [26.988376262793796, 90, '\"CSI: NY\"'], [26.38499766330765, 97, '\"That \\'70s Show\"'], [26.25648529578655, 35, '\"SpongeBob SquarePants\"'], [26.170723788063235, 25, '\"Dateline NBC\"'], [25.94178054831279, 65, '\"The Tonight Show with Jay Leno\"'], [25.895209875151803, 76, '\"NCIS\"'], [25.817645152275354, 2, '\"Dancing with the Stars\"'], [25.526472139186737, 1, '\"NBC Nightly News\"'], [25.453719485073528, 99, '\"Sex and the City\"'], [25.31920046531335, 43, '\"Law & Order: Criminal Intent\"'], [24.78745564326153, 46, '\"SportsCenter\"'], [24.608435766253827, 11, '\"College Basketball\"'], [24.294671338775196, 15, '\"60 Minutes\"'], [24.10141736622706, 88, '\"5:30 on 4\"'], [24.07216330046493, 17, '\"The Young and the Restless\"'], [24.06787068685174, 73, '\"The Simpsons\"'], [23.829605585688252, 67, '\"Today Weekend\"'], [23.771994582331107, 13, '\"PGA Tournament\"'], [23.322074974388677, 98, '\"Frasier\"'], [23.30877591670883, 55, '\"Entertainment Tonight\"'], [23.275339527430877, 10, '\"Friends\"'], [23.230894172782612, 63, '\"Wow Wow Wubbzy\"'], [23.186334257545763, 87, '\"Inside Edition\"'], [22.97657979498709, 14, '\"The King of Queens\"'], [22.921272162258667, 19, '\"The Amazing Race 14\"'], [22.855309413111712, 86, '\"The Ellen DeGeneres Show\"'], [22.68929348872124, 44, '\"The Penguins of Madagascar\"'], [22.5943010130966, 56, '\"Who Wants to Be a Millionaire?\"'], [22.578896764601915, 81, '\"Late Night with Jimmy Fallon\"'], [22.49552938689301, 48, '\"Max and Ruby\"'], [22.303735606355733, 40, '\"The Fairly OddParents\"'], [22.292957254374286, 36, '\"iCarly\"'], [21.989339561875408, 71, '\"The Celebrity Apprentice\"'], [21.767605203451033, 34, '\"Scrubs\"'], [21.633696231786374, 8, '\"NBA Basketball\"'], [21.46931873275815, 31, '\"The E! True Hollywood Story\"'], [21.332587017380128, 91, '\"The Biggest Loser 7: Couples\"'], [20.72130562785273, 38, '\"Back at the Barnyard\"'], [20.568873272669588, 58, '\"ESPNews\"'], [20.25909608668707, 22, '\"Wife Swap\"'], [20.17699227847945, 16, '\"CNN Newsroom\"'], [20.15247015822537, 41, '\"Drake & Josh\"'], [19.741464769858464, 54, '\"MLB Baseball\"'], [19.70539833374197, 69, '\"Blue\\'s Clues\"'], [19.652081771544076, 66, '\"Lazy Town\"'], [19.463504953299438, 85, '\"The Doctors\"'], [19.16812158898857, 70, '\"Franklin\"'], [19.05437648304716, 21, '\"Presidential Press Conference\"'], [18.329722174957606, 93, '\"Meet the Press\"'], [18.15804809164445, 57, '\"2009 NFL Draft\"'], [17.786924761214767, 29, '\"2009 NHL Playoffs\"'], [17.607143270828693, 27, '\"The Big Bang Theory\"'], [17.598324603101805, 4, '\"Larry King Live\"'], [17.502596460807368, 28, '\"How I Met Your Mother\"'], [17.466164136044416, 77, '\"Disney\\'s Mickey Mouse Clubhouse\"'], [17.309518704218927, 89, '\"South Park\"'], [16.482393471719273, 83, '\"Happy Gilmore\"'], [16.32661101535912, 53, '\"My Life As a Teenage Robot\"'], [15.835095025894676, 39, '\"Sweat Equity\"'], [15.655201393322109, 84, '\"According to Jim\"'], [15.167990386480858, 0, '\"The Situation Room with Wolf Blitzer\"'], [15.060203847612112, 12, '\"The Daily Show with Jon Stewart\"'], [15.053859143083931, 32, '\"Horse Racing\"'], [14.765322970986375, 6, '\"NHL Hockey\"'], [14.690169721793325, 78, '\"Shaun the Sheep\"'], [14.622729464446712, 23, '\"2009 NCAA Women\\'s Basketball Tournament\"'], [14.490387344606132, 42, '\"Dog the Bounty Hunter\"'], [14.419555484418893, 37, '\"Curious George\"'], [14.217325269502252, 3, '\"The Colbert Report\"'], [13.799647844454478, 52, '\"Avatar: The Last Airbender\"'], [13.592691472520329, 26, '\"CBS Sunday Evening News\"'], [13.559452342567935, 94, '\"Early Today\"'], [13.461867975931915, 79, '\"Special Agent OSO\"'], [13.44373784372064, 51, '\"Danny Phantom\"'], [13.163547805728292, 75, '\"Nash Bridges\"'], [13.011358612250389, 95, '\"Gangland\"'], [12.685813390258046, 49, '\"UFC Unleashed\"'], [12.661501939426392, 24, '\"ABC World News Saturday\"'], [12.560983623655458, 33, '\"American Morning\"'], [12.413485539903713, 92, '\"Naked Science\"'], [12.255853918183032, 50, '\"NBA Fastbreak\"'], [11.641913069039893, 7, '\"Campbell Brown: No Bias, No Bull\"'], [11.153686314824904, 30, '\"World Poker Tour\"'], [10.31334499434328, 18, '\"Your World with Neil Cavuto\"'], [9.863331290604298, 61, '\"Huckabee\"'], [9.596328971800835, 80, '\"Transformers\"'], [7.224157256959254, 47, '\"MLB Spring Training\"']]\n"
     ]
    }
   ],
   "source": [
    "alexRate2=list(res2[499, :])[0:100] #predicted rating of alex, first 100 columns(items\n",
    "\n",
    "i=0\n",
    "while i<len(alexRate2):\n",
    "    alexRate2[i] = [ alexRate2[i], i ] #( rate, index ) tuple\n",
    "    i+=1\n",
    "\n",
    "alexRate2.sort(key = lambda lst: (-lst[0], lst[1] ) )\n",
    "\n",
    "for tup in alexRate2:\n",
    "    tup.append( titleList [ tup[1] ] )\n",
    "print(alexRate2)"
   ]
  },
  {
   "cell_type": "code",
   "execution_count": 88,
   "metadata": {},
   "outputs": [
    {
     "name": "stdout",
     "output_type": "stream",
     "text": [
      "[[0.3795032191270523, 63, '\"Wow Wow Wubbzy\"'], [0.3774994291481201, 48, '\"Max and Ruby\"'], [0.28614820627633464, 69, '\"Blue\\'s Clues\"'], [0.2532705120047902, 66, '\"Lazy Town\"'], [0.21490121945701648, 70, '\"Franklin\"'], [0.1546113030340623, 39, '\"Sweat Equity\"'], [0.13842603742659979, 55, '\"Entertainment Tonight\"'], [0.13313328147028242, 51, '\"Danny Phantom\"'], [0.13127269402068467, 27, '\"The Big Bang Theory\"'], [0.11629179594540014, 81, '\"Late Night with Jimmy Fallon\"'], [0.11432644062600109, 30, '\"World Poker Tour\"'], [0.10667885517153564, 52, '\"Avatar: The Last Airbender\"'], [0.08729112151034937, 42, '\"Dog the Bounty Hunter\"'], [0.08273556742829824, 17, '\"The Young and the Restless\"'], [0.07988675817786375, 44, '\"The Penguins of Madagascar\"'], [0.07222210048826326, 75, '\"Nash Bridges\"'], [0.06802450432687411, 8, '\"NBA Basketball\"'], [0.06417262590633907, 58, '\"ESPNews\"'], [0.062351973095457064, 90, '\"CSI: NY\"'], [0.06129532372472797, 86, '\"The Ellen DeGeneres Show\"'], [0.057489033553776214, 88, '\"5:30 on 4\"'], [0.05469597655469839, 25, '\"Dateline NBC\"'], [0.053970040437585076, 53, '\"My Life As a Teenage Robot\"'], [0.051180505534213876, 99, '\"Sex and the City\"'], [0.04690792526509145, 62, '\"NBC 4 Today\"'], [0.04607005047006289, 49, '\"UFC Unleashed\"'], [0.045939336634479924, 31, '\"The E! True Hollywood Story\"'], [0.035325014763412155, 2, '\"Dancing with the Stars\"'], [0.0346801763338806, 20, '\"CBS Evening News\"'], [0.03233383123386667, 40, '\"The Fairly OddParents\"'], [0.03200872403986344, 11, '\"College Basketball\"'], [0.029916277971106832, 43, '\"Law & Order: Criminal Intent\"'], [0.026158100796317252, 32, '\"Horse Racing\"'], [0.024790823210084398, 93, '\"Meet the Press\"'], [0.024519905706756134, 15, '\"60 Minutes\"'], [0.023816737736261584, 3, '\"The Colbert Report\"'], [0.023793251267314533, 22, '\"Wife Swap\"'], [0.023586242125428786, 6, '\"NHL Hockey\"'], [0.023352407223831154, 5, '\"Everybody Loves Raymond\"'], [0.02170020726040163, 96, '\"FOX 28 News at 10pm\"'], [0.0187514588342838, 59, '\"American Idol\"'], [0.015826254714529933, 1, '\"NBC Nightly News\"'], [0.015400869399971442, 92, '\"Naked Science\"'], [0.013494078729298392, 84, '\"According to Jim\"'], [0.011588339252605717, 14, '\"The King of Queens\"'], [0.01151382765139003, 76, '\"NCIS\"'], [0.011351979246849275, 38, '\"Back at the Barnyard\"'], [0.007049870121198107, 10, '\"Friends\"'], [0.005162684560833796, 77, '\"Disney\\'s Mickey Mouse Clubhouse\"'], [0.005124840922297091, 24, '\"ABC World News Saturday\"'], [-0.00032697235608517006, 21, '\"Presidential Press Conference\"'], [-0.0007705710654057757, 34, '\"Scrubs\"'], [-0.0008945155391854587, 13, '\"PGA Tournament\"'], [-0.0029175268338048205, 45, '\"2009 NCAA Basketball Tournament\"'], [-0.003973836326633139, 64, '\"Law & Order\"'], [-0.005400823167861862, 60, '\"NBC 4 at Eleven\"'], [-0.008021530574787897, 16, '\"CNN Newsroom\"'], [-0.008217690669532748, 72, '\"Law & Order: Special Victims Unit\"'], [-0.008473321311104315, 12, '\"The Daily Show with Jon Stewart\"'], [-0.010263921373476445, 71, '\"The Celebrity Apprentice\"'], [-0.010415513765397523, 68, '\"Today\"'], [-0.013228687042247413, 79, '\"Special Agent OSO\"'], [-0.014007692524424825, 50, '\"NBA Fastbreak\"'], [-0.015428236141827742, 26, '\"CBS Sunday Evening News\"'], [-0.016305958030976286, 83, '\"Happy Gilmore\"'], [-0.01632851932314707, 47, '\"MLB Spring Training\"'], [-0.018232443123920056, 54, '\"MLB Baseball\"'], [-0.01870928789245903, 57, '\"2009 NFL Draft\"'], [-0.018941455389888652, 35, '\"SpongeBob SquarePants\"'], [-0.019312385911756193, 97, '\"That \\'70s Show\"'], [-0.02070576937382377, 82, '\"Access Hollywood\"'], [-0.021977015298118727, 94, '\"Early Today\"'], [-0.022091194641372422, 46, '\"SportsCenter\"'], [-0.022568725846417226, 73, '\"The Simpsons\"'], [-0.023516046324362494, 29, '\"2009 NHL Playoffs\"'], [-0.024262774483028077, 19, '\"The Amazing Race 14\"'], [-0.025355653099441135, 98, '\"Frasier\"'], [-0.02590593293470259, 4, '\"Larry King Live\"'], [-0.02692402207098083, 56, '\"Who Wants to Be a Millionaire?\"'], [-0.027546700213355133, 87, '\"Inside Edition\"'], [-0.027846278717245626, 9, '\"Two and a Half Men\"'], [-0.028466280872336408, 95, '\"Gangland\"'], [-0.03091615450732254, 7, '\"Campbell Brown: No Bias, No Bull\"'], [-0.03156768244548308, 74, '\"Family Guy\"'], [-0.03347026635934379, 91, '\"The Biggest Loser 7: Couples\"'], [-0.03967527410223778, 61, '\"Huckabee\"'], [-0.040396713182508495, 78, '\"Shaun the Sheep\"'], [-0.040695910867780904, 23, '\"2009 NCAA Women\\'s Basketball Tournament\"'], [-0.042245902231844136, 80, '\"Transformers\"'], [-0.057302701650712363, 33, '\"American Morning\"'], [-0.0645150111546898, 0, '\"The Situation Room with Wolf Blitzer\"'], [-0.06510894924496945, 37, '\"Curious George\"'], [-0.0729581666336392, 18, '\"Your World with Neil Cavuto\"'], [-0.08038391856789734, 67, '\"Today Weekend\"'], [-0.08916357473042788, 41, '\"Drake & Josh\"'], [-0.09976559210427824, 65, '\"The Tonight Show with Jay Leno\"'], [-0.11542177207179541, 36, '\"iCarly\"'], [-0.15634704422266205, 89, '\"South Park\"'], [-0.16244033907930525, 28, '\"How I Met Your Mother\"'], [-0.24250736074130574, 85, '\"The Doctors\"']]\n"
     ]
    }
   ],
   "source": [
    "u, s, vh = np.linalg.svd(R, full_matrices = False)\n",
    "res3 =  u[:, range(0,320)] @ np.diag( s[ range(0,320) ] ) @ vh[range(0,320), :]\n",
    "alexRate3=list(res3[499, :])[0:100] #predicted rating of alex, first 100 columns(items\n",
    "\n",
    "i=0\n",
    "while i<len(alexRate3):\n",
    "    alexRate3[i] = [ alexRate3[i], i ] #( rate, index ) tuple\n",
    "    i+=1\n",
    "\n",
    "alexRate3.sort(key = lambda lst: (-lst[0], lst[1] ) )\n",
    "\n",
    "for tup in alexRate3:\n",
    "    tup.append( titleList [ tup[1] ] )\n",
    "print(alexRate3)"
   ]
  },
  {
   "cell_type": "code",
   "execution_count": 89,
   "metadata": {},
   "outputs": [
    {
     "name": "stdout",
     "output_type": "stream",
     "text": [
      "0.9000234933903016\n"
     ]
    }
   ],
   "source": [
    "isum = 0\n",
    "for i in s[ range(0,320) ]:\n",
    "    isum+= i**2\n",
    "isum2=0\n",
    "for i in s:\n",
    "    isum2+= i**2\n",
    "print(isum/isum2)"
   ]
  },
  {
   "cell_type": "code",
   "execution_count": null,
   "metadata": {},
   "outputs": [],
   "source": []
  }
 ],
 "metadata": {
  "kernelspec": {
   "display_name": "Python 3",
   "language": "python",
   "name": "python3"
  },
  "language_info": {
   "codemirror_mode": {
    "name": "ipython",
    "version": 3
   },
   "file_extension": ".py",
   "mimetype": "text/x-python",
   "name": "python",
   "nbconvert_exporter": "python",
   "pygments_lexer": "ipython3",
   "version": "3.6.5"
  }
 },
 "nbformat": 4,
 "nbformat_minor": 2
}
